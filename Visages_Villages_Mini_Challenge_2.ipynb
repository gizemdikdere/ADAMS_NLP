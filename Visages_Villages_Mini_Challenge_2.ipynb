{
 "cells": [
  {
   "cell_type": "markdown",
   "metadata": {},
   "source": [
    "Team name: Visages Villages\n",
    "\n",
    "Team members: Gizem Dikdere, Özgün Deniz Gezerli"
   ]
  },
  {
   "cell_type": "code",
   "execution_count": 1,
   "metadata": {},
   "outputs": [],
   "source": [
    "import pandas as pd\n",
    "import numpy as np\n",
    "\n",
    "import re\n",
    "\n",
    "import nltk\n",
    "from nltk.tokenize import word_tokenize\n",
    "from nltk.corpus import stopwords\n",
    "from nltk.stem import WordNetLemmatizer\n",
    "from nltk.classify.scikitlearn import SklearnClassifier\n",
    "\n",
    "\n",
    "from sklearn import model_selection\n",
    "from sklearn.preprocessing import LabelEncoder\n",
    "from sklearn.model_selection import train_test_split\n",
    "from sklearn.metrics import classification_report, confusion_matrix\n",
    "\n",
    "import matplotlib.pyplot as plt\n",
    "%matplotlib inline"
   ]
  },
  {
   "cell_type": "code",
   "execution_count": 110,
   "metadata": {},
   "outputs": [
    {
     "name": "stderr",
     "output_type": "stream",
     "text": [
      "/anaconda3/lib/python3.7/site-packages/numpy/lib/arraysetops.py:522: FutureWarning: elementwise comparison failed; returning scalar instead, but in the future will perform elementwise comparison\n",
      "  mask |= (ar1 == a)\n"
     ]
    },
    {
     "data": {
      "text/html": [
       "<div>\n",
       "<style scoped>\n",
       "    .dataframe tbody tr th:only-of-type {\n",
       "        vertical-align: middle;\n",
       "    }\n",
       "\n",
       "    .dataframe tbody tr th {\n",
       "        vertical-align: top;\n",
       "    }\n",
       "\n",
       "    .dataframe thead th {\n",
       "        text-align: right;\n",
       "    }\n",
       "</style>\n",
       "<table border=\"1\" class=\"dataframe\">\n",
       "  <thead>\n",
       "    <tr style=\"text-align: right;\">\n",
       "      <th></th>\n",
       "      <th>product_id</th>\n",
       "      <th>product_title</th>\n",
       "      <th>star_rating</th>\n",
       "      <th>helpful_votes</th>\n",
       "      <th>total_votes</th>\n",
       "      <th>verified_purchase</th>\n",
       "      <th>review_headline</th>\n",
       "      <th>review_body</th>\n",
       "    </tr>\n",
       "  </thead>\n",
       "  <tbody>\n",
       "    <tr>\n",
       "      <th>1</th>\n",
       "      <td>0983797706</td>\n",
       "      <td>Igniting Your True Purpose and Passion: A Busi...</td>\n",
       "      <td>5</td>\n",
       "      <td>0</td>\n",
       "      <td>0</td>\n",
       "      <td>N</td>\n",
       "      <td>This is an inspirational and insightful book t...</td>\n",
       "      <td>This is an inspirational and insightful book t...</td>\n",
       "    </tr>\n",
       "    <tr>\n",
       "      <th>2</th>\n",
       "      <td>1423151283</td>\n",
       "      <td>The Duckling Gets a Cookie!? (Pigeon)</td>\n",
       "      <td>5</td>\n",
       "      <td>0</td>\n",
       "      <td>0</td>\n",
       "      <td>N</td>\n",
       "      <td>Loved it!</td>\n",
       "      <td>My twins are 3 and they love the pigeon books!...</td>\n",
       "    </tr>\n",
       "    <tr>\n",
       "      <th>3</th>\n",
       "      <td>1445604752</td>\n",
       "      <td>Spitfire Ace of Aces: The Wartime Story of Joh...</td>\n",
       "      <td>4</td>\n",
       "      <td>2</td>\n",
       "      <td>2</td>\n",
       "      <td>N</td>\n",
       "      <td>Engaging Account of the Combat Career of an RA...</td>\n",
       "      <td>Back in 1964, I was introduced to 'Johnnie' Jo...</td>\n",
       "    </tr>\n",
       "    <tr>\n",
       "      <th>4</th>\n",
       "      <td>0393057941</td>\n",
       "      <td>The Bread Bible</td>\n",
       "      <td>5</td>\n",
       "      <td>0</td>\n",
       "      <td>0</td>\n",
       "      <td>N</td>\n",
       "      <td>Great book for beginners</td>\n",
       "      <td>I disagree with those reviews that say this is...</td>\n",
       "    </tr>\n",
       "    <tr>\n",
       "      <th>5</th>\n",
       "      <td>1608322858</td>\n",
       "      <td>Do It Well. Make It Fun.: The Key to Success i...</td>\n",
       "      <td>3</td>\n",
       "      <td>2</td>\n",
       "      <td>2</td>\n",
       "      <td>N</td>\n",
       "      <td>Left me wanting more</td>\n",
       "      <td>Reading this book, I hoped to find more about ...</td>\n",
       "    </tr>\n",
       "  </tbody>\n",
       "</table>\n",
       "</div>"
      ],
      "text/plain": [
       "   product_id                                      product_title  star_rating  \\\n",
       "1  0983797706  Igniting Your True Purpose and Passion: A Busi...            5   \n",
       "2  1423151283              The Duckling Gets a Cookie!? (Pigeon)            5   \n",
       "3  1445604752  Spitfire Ace of Aces: The Wartime Story of Joh...            4   \n",
       "4  0393057941                                    The Bread Bible            5   \n",
       "5  1608322858  Do It Well. Make It Fun.: The Key to Success i...            3   \n",
       "\n",
       "   helpful_votes  total_votes verified_purchase  \\\n",
       "1              0            0                 N   \n",
       "2              0            0                 N   \n",
       "3              2            2                 N   \n",
       "4              0            0                 N   \n",
       "5              2            2                 N   \n",
       "\n",
       "                                     review_headline  \\\n",
       "1  This is an inspirational and insightful book t...   \n",
       "2                                          Loved it!   \n",
       "3  Engaging Account of the Combat Career of an RA...   \n",
       "4                           Great book for beginners   \n",
       "5                               Left me wanting more   \n",
       "\n",
       "                                         review_body  \n",
       "1  This is an inspirational and insightful book t...  \n",
       "2  My twins are 3 and they love the pigeon books!...  \n",
       "3  Back in 1964, I was introduced to 'Johnnie' Jo...  \n",
       "4  I disagree with those reviews that say this is...  \n",
       "5  Reading this book, I hoped to find more about ...  "
      ]
     },
     "execution_count": 110,
     "metadata": {},
     "output_type": "execute_result"
    }
   ],
   "source": [
    "data=pd.read_csv(\"MC2.csv\",index_col=0,header=0)\n",
    "data.head()"
   ]
  },
  {
   "cell_type": "markdown",
   "metadata": {},
   "source": [
    "Data is loaded, index column and header are set to 0."
   ]
  },
  {
   "cell_type": "code",
   "execution_count": 111,
   "metadata": {},
   "outputs": [
    {
     "data": {
      "text/html": [
       "<div>\n",
       "<style scoped>\n",
       "    .dataframe tbody tr th:only-of-type {\n",
       "        vertical-align: middle;\n",
       "    }\n",
       "\n",
       "    .dataframe tbody tr th {\n",
       "        vertical-align: top;\n",
       "    }\n",
       "\n",
       "    .dataframe thead th {\n",
       "        text-align: right;\n",
       "    }\n",
       "</style>\n",
       "<table border=\"1\" class=\"dataframe\">\n",
       "  <thead>\n",
       "    <tr style=\"text-align: right;\">\n",
       "      <th></th>\n",
       "      <th>star_rating</th>\n",
       "      <th>helpful_votes</th>\n",
       "      <th>total_votes</th>\n",
       "    </tr>\n",
       "  </thead>\n",
       "  <tbody>\n",
       "    <tr>\n",
       "      <th>count</th>\n",
       "      <td>200000.00000</td>\n",
       "      <td>200000.000000</td>\n",
       "      <td>200000.000000</td>\n",
       "    </tr>\n",
       "    <tr>\n",
       "      <th>mean</th>\n",
       "      <td>4.26367</td>\n",
       "      <td>3.589355</td>\n",
       "      <td>5.117995</td>\n",
       "    </tr>\n",
       "    <tr>\n",
       "      <th>std</th>\n",
       "      <td>1.18173</td>\n",
       "      <td>25.142021</td>\n",
       "      <td>29.256704</td>\n",
       "    </tr>\n",
       "    <tr>\n",
       "      <th>min</th>\n",
       "      <td>1.00000</td>\n",
       "      <td>0.000000</td>\n",
       "      <td>0.000000</td>\n",
       "    </tr>\n",
       "    <tr>\n",
       "      <th>25%</th>\n",
       "      <td>4.00000</td>\n",
       "      <td>0.000000</td>\n",
       "      <td>0.000000</td>\n",
       "    </tr>\n",
       "    <tr>\n",
       "      <th>50%</th>\n",
       "      <td>5.00000</td>\n",
       "      <td>1.000000</td>\n",
       "      <td>1.000000</td>\n",
       "    </tr>\n",
       "    <tr>\n",
       "      <th>75%</th>\n",
       "      <td>5.00000</td>\n",
       "      <td>3.000000</td>\n",
       "      <td>4.000000</td>\n",
       "    </tr>\n",
       "    <tr>\n",
       "      <th>max</th>\n",
       "      <td>5.00000</td>\n",
       "      <td>5275.000000</td>\n",
       "      <td>5666.000000</td>\n",
       "    </tr>\n",
       "  </tbody>\n",
       "</table>\n",
       "</div>"
      ],
      "text/plain": [
       "        star_rating  helpful_votes    total_votes\n",
       "count  200000.00000  200000.000000  200000.000000\n",
       "mean        4.26367       3.589355       5.117995\n",
       "std         1.18173      25.142021      29.256704\n",
       "min         1.00000       0.000000       0.000000\n",
       "25%         4.00000       0.000000       0.000000\n",
       "50%         5.00000       1.000000       1.000000\n",
       "75%         5.00000       3.000000       4.000000\n",
       "max         5.00000    5275.000000    5666.000000"
      ]
     },
     "execution_count": 111,
     "metadata": {},
     "output_type": "execute_result"
    }
   ],
   "source": [
    "data=data.iloc[:200000,:]\n",
    "data.describe()"
   ]
  },
  {
   "cell_type": "markdown",
   "metadata": {},
   "source": [
    "Instead of using the whole data, the first 200000 rows are used. This amount of data is enough for a multi-class classification task. Moreover, our computational power is insufficient to process 1 million rows."
   ]
  },
  {
   "cell_type": "code",
   "execution_count": 112,
   "metadata": {},
   "outputs": [
    {
     "data": {
      "text/html": [
       "<div>\n",
       "<style scoped>\n",
       "    .dataframe tbody tr th:only-of-type {\n",
       "        vertical-align: middle;\n",
       "    }\n",
       "\n",
       "    .dataframe tbody tr th {\n",
       "        vertical-align: top;\n",
       "    }\n",
       "\n",
       "    .dataframe thead th {\n",
       "        text-align: right;\n",
       "    }\n",
       "</style>\n",
       "<table border=\"1\" class=\"dataframe\">\n",
       "  <thead>\n",
       "    <tr style=\"text-align: right;\">\n",
       "      <th></th>\n",
       "      <th>product_id</th>\n",
       "      <th>product_title</th>\n",
       "      <th>star_rating</th>\n",
       "      <th>helpful_votes</th>\n",
       "      <th>total_votes</th>\n",
       "      <th>verified_purchase</th>\n",
       "      <th>review_headline</th>\n",
       "      <th>review_body</th>\n",
       "    </tr>\n",
       "  </thead>\n",
       "  <tbody>\n",
       "    <tr>\n",
       "      <th>199996</th>\n",
       "      <td>1578635071</td>\n",
       "      <td>Saturn: A New Look at an Old Devil</td>\n",
       "      <td>1</td>\n",
       "      <td>7</td>\n",
       "      <td>8</td>\n",
       "      <td>N</td>\n",
       "      <td>1976 classic poorly reprinted.</td>\n",
       "      <td>The cover and paid forward by Robert Hand are ...</td>\n",
       "    </tr>\n",
       "    <tr>\n",
       "      <th>199997</th>\n",
       "      <td>0062038303</td>\n",
       "      <td>Sanctus: A Novel (The Sanctus Trilogy)</td>\n",
       "      <td>3</td>\n",
       "      <td>2</td>\n",
       "      <td>4</td>\n",
       "      <td>N</td>\n",
       "      <td>You either buy into it or you don't</td>\n",
       "      <td>Simon Toyne's \\\\\"Sanctus\\\\\" will find an audie...</td>\n",
       "    </tr>\n",
       "    <tr>\n",
       "      <th>199998</th>\n",
       "      <td>1601423829</td>\n",
       "      <td>Life, In Spite of Me: Extraordinary Hope After...</td>\n",
       "      <td>3</td>\n",
       "      <td>2</td>\n",
       "      <td>2</td>\n",
       "      <td>N</td>\n",
       "      <td>Kritters Ramblings</td>\n",
       "      <td>An emotional story that from the very beginnin...</td>\n",
       "    </tr>\n",
       "    <tr>\n",
       "      <th>199999</th>\n",
       "      <td>B00342VFH8</td>\n",
       "      <td>The Money Workbook: A 30-day Program to Greate...</td>\n",
       "      <td>5</td>\n",
       "      <td>0</td>\n",
       "      <td>0</td>\n",
       "      <td>Y</td>\n",
       "      <td>very interesting book</td>\n",
       "      <td>I like the book it opens your mind with the ex...</td>\n",
       "    </tr>\n",
       "    <tr>\n",
       "      <th>200000</th>\n",
       "      <td>0764207520</td>\n",
       "      <td>Unlikely Suitor, An</td>\n",
       "      <td>3</td>\n",
       "      <td>1</td>\n",
       "      <td>1</td>\n",
       "      <td>N</td>\n",
       "      <td>Review of An Unlikely Suitor</td>\n",
       "      <td>Head back to the year of 1895 and follow two g...</td>\n",
       "    </tr>\n",
       "  </tbody>\n",
       "</table>\n",
       "</div>"
      ],
      "text/plain": [
       "        product_id                                      product_title  \\\n",
       "199996  1578635071                 Saturn: A New Look at an Old Devil   \n",
       "199997  0062038303             Sanctus: A Novel (The Sanctus Trilogy)   \n",
       "199998  1601423829  Life, In Spite of Me: Extraordinary Hope After...   \n",
       "199999  B00342VFH8  The Money Workbook: A 30-day Program to Greate...   \n",
       "200000  0764207520                                Unlikely Suitor, An   \n",
       "\n",
       "        star_rating  helpful_votes  total_votes verified_purchase  \\\n",
       "199996            1              7            8                 N   \n",
       "199997            3              2            4                 N   \n",
       "199998            3              2            2                 N   \n",
       "199999            5              0            0                 Y   \n",
       "200000            3              1            1                 N   \n",
       "\n",
       "                            review_headline  \\\n",
       "199996       1976 classic poorly reprinted.   \n",
       "199997  You either buy into it or you don't   \n",
       "199998                   Kritters Ramblings   \n",
       "199999                very interesting book   \n",
       "200000         Review of An Unlikely Suitor   \n",
       "\n",
       "                                              review_body  \n",
       "199996  The cover and paid forward by Robert Hand are ...  \n",
       "199997  Simon Toyne's \\\\\"Sanctus\\\\\" will find an audie...  \n",
       "199998  An emotional story that from the very beginnin...  \n",
       "199999  I like the book it opens your mind with the ex...  \n",
       "200000  Head back to the year of 1895 and follow two g...  "
      ]
     },
     "execution_count": 112,
     "metadata": {},
     "output_type": "execute_result"
    }
   ],
   "source": [
    "data.tail()"
   ]
  },
  {
   "cell_type": "code",
   "execution_count": 113,
   "metadata": {},
   "outputs": [
    {
     "name": "stdout",
     "output_type": "stream",
     "text": [
      "Empty DataFrame\n",
      "Columns: [product_id, product_title, star_rating, helpful_votes, total_votes, verified_purchase, review_headline, review_body]\n",
      "Index: []\n",
      "Empty DataFrame\n",
      "Columns: [product_id, product_title, star_rating, helpful_votes, total_votes, verified_purchase, review_headline, review_body]\n",
      "Index: []\n",
      "<class 'pandas.core.frame.DataFrame'>\n",
      "Int64Index: 200000 entries, 1 to 200000\n",
      "Data columns (total 8 columns):\n",
      "product_id           200000 non-null object\n",
      "product_title        200000 non-null object\n",
      "star_rating          200000 non-null int64\n",
      "helpful_votes        200000 non-null int64\n",
      "total_votes          200000 non-null int64\n",
      "verified_purchase    200000 non-null object\n",
      "review_headline      199998 non-null object\n",
      "review_body          200000 non-null object\n",
      "dtypes: int64(3), object(5)\n",
      "memory usage: 13.7+ MB\n"
     ]
    }
   ],
   "source": [
    "print(data[data[\"star_rating\"]==0]) \n",
    "print(data[data[\"star_rating\"]>5]) \n",
    "data.info()"
   ]
  },
  {
   "cell_type": "markdown",
   "metadata": {},
   "source": [
    "Above, star_rating column is checked if there are zeros or values more than 5. Since the resulting arrays are empty, it is certain that there are not any zeros or values more than 5. Just review_body and star_rating columns are used for this task and these columns do not have any null values. "
   ]
  },
  {
   "cell_type": "code",
   "execution_count": 114,
   "metadata": {},
   "outputs": [
    {
     "data": {
      "text/plain": [
       "(array([ 12715.,      0.,   9269.,      0.,      0.,  16136.,      0.,\n",
       "         36327.,      0., 125553.]),\n",
       " array([1. , 1.4, 1.8, 2.2, 2.6, 3. , 3.4, 3.8, 4.2, 4.6, 5. ]),\n",
       " <a list of 10 Patch objects>)"
      ]
     },
     "execution_count": 114,
     "metadata": {},
     "output_type": "execute_result"
    },
    {
     "data": {
      "image/png": "[encoded data removed]",
      "text/plain": [
       "<Figure size 432x288 with 1 Axes>"
      ]
     },
     "metadata": {
      "needs_background": "light"
     },
     "output_type": "display_data"
    }
   ],
   "source": [
    "plt.hist(data[\"star_rating\"])"
   ]
  },
  {
   "cell_type": "code",
   "execution_count": 115,
   "metadata": {},
   "outputs": [
    {
     "name": "stdout",
     "output_type": "stream",
     "text": [
      "5    125553\n",
      "4     36327\n",
      "3     16136\n",
      "1     12715\n",
      "2      9269\n",
      "Name: star_rating, dtype: int64\n"
     ]
    }
   ],
   "source": [
    "print(data.star_rating.value_counts())"
   ]
  },
  {
   "cell_type": "markdown",
   "metadata": {},
   "source": [
    "Star_rating is not distributed evenly but the neural network models capture this unevenness in training. There is no need to over or undersample."
   ]
  },
  {
   "cell_type": "markdown",
   "metadata": {},
   "source": [
    "BENCHMARK MODEL"
   ]
  },
  {
   "cell_type": "markdown",
   "metadata": {},
   "source": [
    "To create a simple benchmark model, first tfidf vectorizer is used to vectorize the text data, then RandomForestClassifier is used as the model. "
   ]
  },
  {
   "cell_type": "code",
   "execution_count": 66,
   "metadata": {},
   "outputs": [],
   "source": [
    "databenchmark=data.iloc[:10000,:]"
   ]
  },
  {
   "cell_type": "code",
   "execution_count": 67,
   "metadata": {},
   "outputs": [],
   "source": [
    "from sklearn.feature_extraction.text import TfidfVectorizer\n",
    "vectorizer = TfidfVectorizer(ngram_range=(1,2))\n",
    "vectors = vectorizer.fit_transform(databenchmark.review_body)"
   ]
  },
  {
   "cell_type": "markdown",
   "metadata": {},
   "source": [
    "The 'review_body' column is vectorized by using tfidfvectorizer. "
   ]
  },
  {
   "cell_type": "code",
   "execution_count": 68,
   "metadata": {},
   "outputs": [],
   "source": [
    "y=databenchmark[\"star_rating\"]"
   ]
  },
  {
   "cell_type": "code",
   "execution_count": 69,
   "metadata": {},
   "outputs": [],
   "source": [
    "from sklearn.model_selection import train_test_split\n",
    "X_train, X_test, y_train, y_test = train_test_split(vectors, y, test_size=0.2, random_state=42)"
   ]
  },
  {
   "cell_type": "code",
   "execution_count": 70,
   "metadata": {},
   "outputs": [
    {
     "name": "stderr",
     "output_type": "stream",
     "text": [
      "/anaconda3/lib/python3.7/site-packages/sklearn/ensemble/forest.py:246: FutureWarning: The default value of n_estimators will change from 10 in version 0.20 to 100 in 0.22.\n",
      "  \"10 in version 0.20 to 100 in 0.22.\", FutureWarning)\n"
     ]
    },
    {
     "data": {
      "text/plain": [
       "RandomForestClassifier(bootstrap=True, class_weight=None, criterion='gini',\n",
       "            max_depth=None, max_features='auto', max_leaf_nodes=None,\n",
       "            min_impurity_decrease=0.0, min_impurity_split=None,\n",
       "            min_samples_leaf=1, min_samples_split=2,\n",
       "            min_weight_fraction_leaf=0.0, n_estimators=10, n_jobs=None,\n",
       "            oob_score=False, random_state=None, verbose=0,\n",
       "            warm_start=False)"
      ]
     },
     "execution_count": 70,
     "metadata": {},
     "output_type": "execute_result"
    }
   ],
   "source": [
    "from sklearn.ensemble import RandomForestClassifier\n",
    "classifier=RandomForestClassifier()\n",
    "classifier.fit(X_train, y_train)"
   ]
  },
  {
   "cell_type": "markdown",
   "metadata": {},
   "source": [
    "RandomForestClassifier is fitted to the train data."
   ]
  },
  {
   "cell_type": "code",
   "execution_count": 81,
   "metadata": {},
   "outputs": [],
   "source": [
    "preds = classifier.predict(X_test)\n",
    "proba = classifier.predict_proba(X_test)"
   ]
  },
  {
   "cell_type": "code",
   "execution_count": 78,
   "metadata": {},
   "outputs": [
    {
     "name": "stdout",
     "output_type": "stream",
     "text": [
      "Accuracy score for benchmark:  0.649\n",
      "Log_loss for benchmark:  4.655074142723375\n"
     ]
    }
   ],
   "source": [
    "from sklearn.metrics import accuracy_score,log_loss\n",
    "print('Accuracy score for benchmark: ', accuracy_score(y_test,preds))\n",
    "print('Log_loss for benchmark: ', log_loss(y_test, proba))"
   ]
  },
  {
   "cell_type": "markdown",
   "metadata": {},
   "source": [
    "The accuracy score for benchmark is 0.65 and log loss is 4.655. "
   ]
  },
  {
   "cell_type": "markdown",
   "metadata": {},
   "source": [
    "PREPROCESSING FUNCTION"
   ]
  },
  {
   "cell_type": "code",
   "execution_count": 116,
   "metadata": {},
   "outputs": [],
   "source": [
    "import string\n",
    "stop_words = stopwords.words(\"english\")\n",
    "lemmatizer = WordNetLemmatizer()\n",
    "def clean_text(text):\n",
    "    text = text.translate(str.maketrans('','',string.punctuation)) #removes punc\n",
    "    text=nltk.word_tokenize(text.lower()) #lowers and tokenizes\n",
    "    text = [word for word in text if word not in stop_words] #removes stop words\n",
    "    text = [lemmatizer.lemmatize(word, pos='n') for word in text]\n",
    "    text = [lemmatizer.lemmatize(word, pos='v') for word in text]\n",
    "    text = [lemmatizer.lemmatize(word, pos='a') for word in text]\n",
    "    return text;"
   ]
  },
  {
   "cell_type": "markdown",
   "metadata": {},
   "source": [
    "Clean_text function cleans the reviews. First, it removes punctuations. Then, it lowers and tokenizes the text. Afterwards, stop words are removed from text. Finally, nouns, verbs, and adjectives in the text are lemmatized."
   ]
  },
  {
   "cell_type": "markdown",
   "metadata": {},
   "source": [
    "WORD2VEC + LSTM"
   ]
  },
  {
   "cell_type": "code",
   "execution_count": 9,
   "metadata": {},
   "outputs": [],
   "source": [
    "vocab=[]\n",
    "for i in range(0,len(data)):\n",
    "    a=clean_text(data.iloc[i,-1])\n",
    "    vocab.append(a)"
   ]
  },
  {
   "cell_type": "markdown",
   "metadata": {},
   "source": [
    "Vocab holds the cleaned version of review_body. "
   ]
  },
  {
   "cell_type": "code",
   "execution_count": 31,
   "metadata": {},
   "outputs": [
    {
     "name": "stderr",
     "output_type": "stream",
     "text": [
      "C:\\Users\\deniz\\Anaconda3\\lib\\site-packages\\gensim\\utils.py:1197: UserWarning: detected Windows; aliasing chunkize to chunkize_serial\n",
      "  warnings.warn(\"detected Windows; aliasing chunkize to chunkize_serial\")\n"
     ]
    },
    {
     "name": "stdout",
     "output_type": "stream",
     "text": [
      "Word2Vec(vocab=334971, size=128, alpha=0.025)\n"
     ]
    }
   ],
   "source": [
    "from gensim.models import Word2Vec    \n",
    "\n",
    "\n",
    "word2vec = Word2Vec(vocab, \n",
    "                 min_count=1,\n",
    "                 window=100, \n",
    "                 iter =100, \n",
    "                 size=128, \n",
    "                 workers=2)\n",
    "\n",
    "print(word2vec)"
   ]
  },
  {
   "cell_type": "markdown",
   "metadata": {},
   "source": [
    "A Word2Vec model is trained using vocab. Min_count is selected as 1 to vectorize all words. Window size is determined as 100. Too small window size is not enough to capture the meaning of the review and too big window size is not optimal in terms of computational power. Iter is selected as 100. Size of embedding is 128. The trained word2vec model has 334971 word vectors."
   ]
  },
  {
   "cell_type": "code",
   "execution_count": 32,
   "metadata": {},
   "outputs": [
    {
     "name": "stderr",
     "output_type": "stream",
     "text": [
      "C:\\Users\\deniz\\Anaconda3\\lib\\site-packages\\smart_open\\smart_open_lib.py:398: UserWarning: This function is deprecated, use smart_open.open instead. See the migration notes for details: https://github.com/RaRe-Technologies/smart_open/blob/master/README.rst#migrating-to-the-new-open-function\n",
      "  'See the migration notes for details: %s' % _MIGRATION_NOTES_URL\n"
     ]
    }
   ],
   "source": [
    "embs_200k_100w=\"200k_100_window_embeddings.txt\"\n",
    "word2vec.wv.save_word2vec_format(embs_200k_100w, binary=False)"
   ]
  },
  {
   "cell_type": "markdown",
   "metadata": {},
   "source": [
    "Embeddings are saved to a text file in order to use later."
   ]
  },
  {
   "cell_type": "code",
   "execution_count": 10,
   "metadata": {},
   "outputs": [],
   "source": [
    "embeddings_index={}\n",
    "with open(\"200k_100_window_embeddings.txt\",encoding='utf8') as loaded_embs:\n",
    "    for line in loaded_embs:\n",
    "        values=line.split()\n",
    "        word=values[0]\n",
    "        coefs=np.asarray(values[1:])\n",
    "        embeddings_index[word]=coefs"
   ]
  },
  {
   "cell_type": "markdown",
   "metadata": {},
   "source": [
    "Embeddings are loaded from saved file."
   ]
  },
  {
   "cell_type": "code",
   "execution_count": 11,
   "metadata": {},
   "outputs": [
    {
     "name": "stderr",
     "output_type": "stream",
     "text": [
      "Using TensorFlow backend.\n"
     ]
    }
   ],
   "source": [
    "from keras.preprocessing.text import Tokenizer\n",
    "train_sentences=vocab\n",
    "tokenizer_obj=Tokenizer()\n",
    "tokenizer_obj.fit_on_texts(train_sentences)\n",
    "seq=tokenizer_obj.texts_to_sequences(train_sentences)"
   ]
  },
  {
   "cell_type": "markdown",
   "metadata": {},
   "source": [
    "Reviews are tokenized and converted to sequences."
   ]
  },
  {
   "cell_type": "code",
   "execution_count": 19,
   "metadata": {},
   "outputs": [],
   "source": [
    "from keras.preprocessing.sequence import pad_sequences\n",
    "X_padded=pad_sequences(seq, 128) "
   ]
  },
  {
   "cell_type": "markdown",
   "metadata": {},
   "source": [
    "Sequences are padded with size of 128."
   ]
  },
  {
   "cell_type": "code",
   "execution_count": 20,
   "metadata": {},
   "outputs": [
    {
     "data": {
      "text/plain": [
       "334971"
      ]
     },
     "execution_count": 20,
     "metadata": {},
     "output_type": "execute_result"
    }
   ],
   "source": [
    "word_index=tokenizer_obj.word_index\n",
    "len(word_index)"
   ]
  },
  {
   "cell_type": "markdown",
   "metadata": {},
   "source": [
    "334971 is the number of unique words which is the same with the vocab of word2vec model. This amount of words is enough for embedding."
   ]
  },
  {
   "cell_type": "code",
   "execution_count": 21,
   "metadata": {},
   "outputs": [
    {
     "name": "stdout",
     "output_type": "stream",
     "text": [
      "(334972, 128)\n",
      "334972\n"
     ]
    }
   ],
   "source": [
    "num_words=len(word_index)+1\n",
    "emb=128\n",
    "embedding_matrix=np.zeros((num_words, emb))\n",
    "\n",
    "for word, i in word_index.items():\n",
    "    if i > num_words:\n",
    "        continue\n",
    "    embedding_vector=embeddings_index[word]\n",
    "    \n",
    "    if embedding_vector is not None:\n",
    "        embedding_matrix[i]=embedding_vector\n",
    "print(embedding_matrix.shape)\n",
    "print(num_words)"
   ]
  },
  {
   "cell_type": "markdown",
   "metadata": {},
   "source": [
    "Above, embedding matrix is created. If a word is not in word2vec embeddings, it gets zero value. The shape of the embedding matrix is (334972,128)."
   ]
  },
  {
   "cell_type": "code",
   "execution_count": 22,
   "metadata": {},
   "outputs": [
    {
     "name": "stdout",
     "output_type": "stream",
     "text": [
      "[1 2 3 4 5]\n",
      "(200000, 128)\n",
      "(200000, 5)\n"
     ]
    }
   ],
   "source": [
    "from keras.utils import to_categorical\n",
    "y=data[\"star_rating\"]\n",
    "encoder=LabelEncoder()\n",
    "y=encoder.fit_transform(y)\n",
    "print(encoder.classes_)\n",
    "y = to_categorical(y)\n",
    "\n",
    "\n",
    "print(X_padded.shape) \n",
    "print(y.shape)"
   ]
  },
  {
   "cell_type": "markdown",
   "metadata": {},
   "source": [
    "Labels are encoded,fitted, and transformed. Then, y is converted to categorical version."
   ]
  },
  {
   "cell_type": "code",
   "execution_count": 23,
   "metadata": {},
   "outputs": [
    {
     "name": "stdout",
     "output_type": "stream",
     "text": [
      "(160000, 128) (160000, 5)\n",
      "(40000, 128) (40000, 5)\n"
     ]
    }
   ],
   "source": [
    "from sklearn.model_selection import train_test_split\n",
    "X_train, X_test, y_train, y_test = train_test_split(X_padded,y, test_size = 0.2, random_state = 42)\n",
    "print(X_train.shape,y_train.shape)\n",
    "print(X_test.shape,y_test.shape)\n"
   ]
  },
  {
   "cell_type": "markdown",
   "metadata": {},
   "source": [
    "Padded and y split into train and test sets. Train set has 160000 entries. Test set has 40000 entries."
   ]
  },
  {
   "cell_type": "code",
   "execution_count": 25,
   "metadata": {},
   "outputs": [
    {
     "name": "stderr",
     "output_type": "stream",
     "text": [
      "W0630 15:44:30.396914  5588 deprecation.py:323] From C:\\Users\\deniz\\Anaconda3\\lib\\site-packages\\tensorflow\\python\\ops\\math_grad.py:1250: add_dispatch_support.<locals>.wrapper (from tensorflow.python.ops.array_ops) is deprecated and will be removed in a future version.\n",
      "Instructions for updating:\n",
      "Use tf.where in 2.0, which has the same broadcast rule as np.where\n"
     ]
    },
    {
     "name": "stdout",
     "output_type": "stream",
     "text": [
      "Train on 128000 samples, validate on 32000 samples\n",
      "Epoch 1/3\n",
      "128000/128000 [==============================] - 1743s 14ms/step - loss: 0.9071 - acc: 0.6553 - val_loss: 0.8229 - val_acc: 0.6806\n",
      "Epoch 2/3\n",
      "128000/128000 [==============================] - 1652s 13ms/step - loss: 0.7877 - acc: 0.6934 - val_loss: 0.8043 - val_acc: 0.6863\n",
      "Epoch 3/3\n",
      "128000/128000 [==============================] - 1627s 13ms/step - loss: 0.7461 - acc: 0.7090 - val_loss: 0.8003 - val_acc: 0.6873\n"
     ]
    }
   ],
   "source": [
    "from keras.models import Sequential\n",
    "from keras.layers import Dense, Flatten,SpatialDropout1D,LSTM\n",
    "from keras.layers.embeddings import Embedding\n",
    "from keras.callbacks import EarlyStopping\n",
    "from keras. initializers import Constant\n",
    "input_dim=len(embedding_matrix)\n",
    "model = Sequential()\n",
    "model.add(Embedding(input_dim=input_dim,output_dim= emb,embeddings_initializer=Constant(embedding_matrix), input_length=128,trainable=True))\n",
    "#model.add(SpatialDropout1D(0.2))\n",
    "model.add(LSTM(100, recurrent_dropout=0.2))\n",
    "model.add(Dense(5, activation='softmax'))\n",
    "model.compile(loss='categorical_crossentropy', optimizer='adam', metrics=['accuracy'])\n",
    "\n",
    "epochs = 3\n",
    "batch_size = 128\n",
    "\n",
    "history = model.fit(X_train, y_train, epochs=epochs, batch_size=batch_size,validation_split=0.2,callbacks=[EarlyStopping(monitor='val_loss', patience=1, min_delta=0.0001)])"
   ]
  },
  {
   "cell_type": "markdown",
   "metadata": {},
   "source": [
    "Sequential model is created and embedding layer is added. Embedding layer has the lenght of embedding matrix as input dimension, embedding size as output dimension, embedding matrix as embeddings initializer, and 128 as input length which is pad length. Trainable is set as True to train the weights during fitting.\n",
    "\n",
    "Then, an LSTM layer is added to the model with 100 units and 0.2 as recurrent dropout rate. Recurrent dropout is added to the model to prevent overfitting. After LSTM layer, a Dense layer is added. Dense layer is necessary to predict classes. Since there are 5 classes, dense layer has 5 units. Activation function is softmax because this is a multi-class classification task.\n",
    "\n",
    "For compiling the model, categorical crossentropy is used for loss because this is a multi-class classification model. Adam is selected as optimizer. Accuracy is set as metrics.\n",
    "\n",
    "The model is trained for 3 epochs with 128 batch size. These parameters are set by hand to prevent overfitting.\n",
    "\n",
    "Train loss is 0.7461. Train accuracy is 0.7090. Validation loss is 0.8003. Validation accuracy is 0.6873. There is no overfitting."
   ]
  },
  {
   "cell_type": "code",
   "execution_count": 26,
   "metadata": {},
   "outputs": [
    {
     "name": "stdout",
     "output_type": "stream",
     "text": [
      "40000/40000 [==============================] - 42s 1ms/step\n",
      "Test set\n",
      "  Loss: 0.802\n",
      "  Accuracy: 0.686\n"
     ]
    }
   ],
   "source": [
    "evaluation = model.evaluate(X_test,y_test)\n",
    "print('Test set\\n  Loss: {:0.3f}\\n  Accuracy: {:0.3f}'.format(evaluation[0],evaluation[1]))"
   ]
  },
  {
   "cell_type": "code",
   "execution_count": 27,
   "metadata": {},
   "outputs": [
    {
     "data": {
      "image/png": "[encoded data removed]",
      "text/plain": [
       "<Figure size 432x288 with 1 Axes>"
      ]
     },
     "metadata": {
      "needs_background": "light"
     },
     "output_type": "display_data"
    }
   ],
   "source": [
    "plt.title('Loss')\n",
    "plt.plot(history.history['loss'], label='train')\n",
    "plt.plot(history.history['val_loss'], label='test')\n",
    "plt.legend()\n",
    "plt.show()"
   ]
  },
  {
   "cell_type": "markdown",
   "metadata": {},
   "source": [
    "Above, the graph of train and test loss in every epoch is plotted. There is no overfitting."
   ]
  },
  {
   "cell_type": "code",
   "execution_count": 28,
   "metadata": {},
   "outputs": [
    {
     "data": {
      "image/png": "[encoded data removed]",
      "text/plain": [
       "<Figure size 432x288 with 1 Axes>"
      ]
     },
     "metadata": {
      "needs_background": "light"
     },
     "output_type": "display_data"
    }
   ],
   "source": [
    "plt.title('Accuracy')\n",
    "plt.plot(history.history['acc'], label='train')\n",
    "plt.plot(history.history['val_acc'], label='test')\n",
    "plt.legend()\n",
    "plt.show()"
   ]
  },
  {
   "cell_type": "markdown",
   "metadata": {},
   "source": [
    "Above, the graph of train and test accuracy in every epoch is plotted. There is no overfitting."
   ]
  },
  {
   "cell_type": "markdown",
   "metadata": {},
   "source": [
    "GLOVE + LSTM"
   ]
  },
  {
   "cell_type": "code",
   "execution_count": 117,
   "metadata": {},
   "outputs": [],
   "source": [
    "train_sentences=data['review_body'].apply(clean_text)"
   ]
  },
  {
   "cell_type": "code",
   "execution_count": 118,
   "metadata": {},
   "outputs": [
    {
     "data": {
      "text/plain": [
       "[1827,\n",
       " 300,\n",
       " 10,\n",
       " 9228,\n",
       " 1,\n",
       " 4,\n",
       " 52,\n",
       " 195,\n",
       " 9228,\n",
       " 618,\n",
       " 3277,\n",
       " 224,\n",
       " 534,\n",
       " 578,\n",
       " 21,\n",
       " 17,\n",
       " 5258,\n",
       " 26,\n",
       " 52,\n",
       " 22,\n",
       " 175,\n",
       " 2,\n",
       " 12,\n",
       " 210,\n",
       " 28,\n",
       " 270]"
      ]
     },
     "execution_count": 118,
     "metadata": {},
     "output_type": "execute_result"
    }
   ],
   "source": [
    "from keras.preprocessing.text import Tokenizer\n",
    "\n",
    "tokenizer_obj=Tokenizer()\n",
    "tokenizer_obj.fit_on_texts(train_sentences)\n",
    "seq=tokenizer_obj.texts_to_sequences(train_sentences)\n",
    "seq[1]"
   ]
  },
  {
   "cell_type": "markdown",
   "metadata": {},
   "source": [
    "Reviews are tokenized and converted to sequences."
   ]
  },
  {
   "cell_type": "code",
   "execution_count": 119,
   "metadata": {},
   "outputs": [],
   "source": [
    "from keras.preprocessing.sequence import pad_sequences\n",
    "X_padded=pad_sequences(seq, 150)"
   ]
  },
  {
   "cell_type": "markdown",
   "metadata": {},
   "source": [
    "Sequences are padded with size of 150."
   ]
  },
  {
   "cell_type": "code",
   "execution_count": 120,
   "metadata": {},
   "outputs": [
    {
     "name": "stdout",
     "output_type": "stream",
     "text": [
      "[1 2 3 4 5]\n",
      "(200000, 150)\n",
      "(200000, 5)\n"
     ]
    }
   ],
   "source": [
    "from keras.utils import to_categorical\n",
    "y=data[\"star_rating\"]\n",
    "encoder=LabelEncoder()\n",
    "y=encoder.fit_transform(y)\n",
    "print(encoder.classes_)\n",
    "y = to_categorical(y)\n",
    "\n",
    "\n",
    "print(X_padded.shape)\n",
    "print(y.shape)"
   ]
  },
  {
   "cell_type": "code",
   "execution_count": 121,
   "metadata": {},
   "outputs": [],
   "source": [
    "X_train, X_test, y_train, y_test = train_test_split(X_padded, y, test_size=0.25, random_state=111)"
   ]
  },
  {
   "cell_type": "code",
   "execution_count": 14,
   "metadata": {},
   "outputs": [
    {
     "name": "stdout",
     "output_type": "stream",
     "text": [
      "Found 400000 word vectors.\n"
     ]
    }
   ],
   "source": [
    "embeddings_index = {}\n",
    "with open('/Users/gizemdikdere/Downloads/glove/glove.6B.100d.txt', 'r') as f:\n",
    "    for line in f:\n",
    "        values = line.split()\n",
    "        word = values[0]\n",
    "        coefs = np.asarray(values[1:], dtype='float32')\n",
    "        embeddings_index[word] = coefs\n",
    "\n",
    "print('Found %s word vectors.' % len(embeddings_index))"
   ]
  },
  {
   "cell_type": "markdown",
   "metadata": {},
   "source": [
    "After building the embedding using Word2vec, it is decided to use pre-trained embeddings. 'GloVe' is chosen. "
   ]
  },
  {
   "cell_type": "code",
   "execution_count": 15,
   "metadata": {},
   "outputs": [
    {
     "data": {
      "text/plain": [
       "334971"
      ]
     },
     "execution_count": 15,
     "metadata": {},
     "output_type": "execute_result"
    }
   ],
   "source": [
    "word_index=tokenizer_obj.word_index\n",
    "len(word_index)"
   ]
  },
  {
   "cell_type": "markdown",
   "metadata": {},
   "source": [
    "334971 is the number of unique tokens."
   ]
  },
  {
   "cell_type": "code",
   "execution_count": 16,
   "metadata": {},
   "outputs": [
    {
     "data": {
      "text/plain": [
       "334972"
      ]
     },
     "execution_count": 16,
     "metadata": {},
     "output_type": "execute_result"
    }
   ],
   "source": [
    "num_words=len(word_index)+1\n",
    "num_words"
   ]
  },
  {
   "cell_type": "code",
   "execution_count": null,
   "metadata": {},
   "outputs": [],
   "source": [
    "emb=100\n",
    "gloved = np.zeros((len(word_index) + 1, emb))\n",
    "for word, i in word_index.items():\n",
    "    embedding_vector = embeddings_index.get(word)\n",
    "    if embedding_vector is not None:\n",
    "        gloved[i] = embedding_vector"
   ]
  },
  {
   "cell_type": "markdown",
   "metadata": {},
   "source": [
    "Here, the weights that will be in the embedding layer are created.  The shape of the weight matrix is (334972, 100). For the new words, it will use zero embeddings.  "
   ]
  },
  {
   "cell_type": "code",
   "execution_count": 18,
   "metadata": {},
   "outputs": [],
   "source": [
    "from keras.layers.embeddings import Embedding\n",
    "embedding_layer2 = Embedding(num_words,\n",
    "                            emb,\n",
    "                            weights=[gloved],\n",
    "                            input_length=150,\n",
    "                            trainable=False)"
   ]
  },
  {
   "cell_type": "markdown",
   "metadata": {},
   "source": [
    "The embedding layer is created by using the weights from Glove and the input length of 150. It is chosen to set trainable equal to False because when weights are trainable, the overfitting behavior was observed quickly. "
   ]
  },
  {
   "cell_type": "code",
   "execution_count": 19,
   "metadata": {},
   "outputs": [
    {
     "name": "stdout",
     "output_type": "stream",
     "text": [
      "WARNING:tensorflow:From /anaconda3/lib/python3.7/site-packages/tensorflow/python/framework/op_def_library.py:263: colocate_with (from tensorflow.python.framework.ops) is deprecated and will be removed in a future version.\n",
      "Instructions for updating:\n",
      "Colocations handled automatically by placer.\n",
      "WARNING:tensorflow:From /anaconda3/lib/python3.7/site-packages/keras/backend/tensorflow_backend.py:3445: calling dropout (from tensorflow.python.ops.nn_ops) with keep_prob is deprecated and will be removed in a future version.\n",
      "Instructions for updating:\n",
      "Please use `rate` instead of `keep_prob`. Rate should be set to `rate = 1 - keep_prob`.\n",
      "_________________________________________________________________\n",
      "Layer (type)                 Output Shape              Param #   \n",
      "=================================================================\n",
      "embedding_1 (Embedding)      (None, 150, 100)          33497200  \n",
      "_________________________________________________________________\n",
      "lstm_1 (LSTM)                (None, 100)               80400     \n",
      "_________________________________________________________________\n",
      "dense_1 (Dense)              (None, 5)                 505       \n",
      "=================================================================\n",
      "Total params: 33,578,105\n",
      "Trainable params: 80,905\n",
      "Non-trainable params: 33,497,200\n",
      "_________________________________________________________________\n",
      "WARNING:tensorflow:From /anaconda3/lib/python3.7/site-packages/tensorflow/python/ops/math_ops.py:3066: to_int32 (from tensorflow.python.ops.math_ops) is deprecated and will be removed in a future version.\n",
      "Instructions for updating:\n",
      "Use tf.cast instead.\n",
      "Train on 120000 samples, validate on 30000 samples\n",
      "Epoch 1/7\n",
      "120000/120000 [==============================] - 301s 3ms/step - loss: 0.9585 - acc: 0.6438 - val_loss: 0.8808 - val_acc: 0.6631\n",
      "Epoch 2/7\n",
      "120000/120000 [==============================] - 333s 3ms/step - loss: 0.8631 - acc: 0.6683 - val_loss: 0.8474 - val_acc: 0.6733\n",
      "Epoch 3/7\n",
      "120000/120000 [==============================] - 314s 3ms/step - loss: 0.8286 - acc: 0.6794 - val_loss: 0.8199 - val_acc: 0.6827\n",
      "Epoch 4/7\n",
      "120000/120000 [==============================] - 326s 3ms/step - loss: 0.8034 - acc: 0.6866 - val_loss: 0.8216 - val_acc: 0.6820\n",
      "Epoch 5/7\n",
      "120000/120000 [==============================] - 300s 3ms/step - loss: 0.7848 - acc: 0.6926 - val_loss: 0.8036 - val_acc: 0.6888\n",
      "Epoch 6/7\n",
      "120000/120000 [==============================] - 287s 2ms/step - loss: 0.7681 - acc: 0.6986 - val_loss: 0.7981 - val_acc: 0.6914\n",
      "Epoch 7/7\n",
      "120000/120000 [==============================] - 296s 2ms/step - loss: 0.7536 - acc: 0.7029 - val_loss: 0.7903 - val_acc: 0.6941\n"
     ]
    }
   ],
   "source": [
    "from keras.layers import LSTM\n",
    "from keras.models import Sequential\n",
    "from keras.layers import Dense, Dropout\n",
    "from keras.optimizers import Adam\n",
    "\n",
    "optimizer=Adam(lr=0.001)\n",
    "\n",
    "model3=Sequential()\n",
    "model3.add(embedding_layer2)\n",
    "model3.add(LSTM(100,recurrent_dropout=0.25))\n",
    "model3.add(Dense(5, activation=\"softmax\"))\n",
    "model3.compile(loss=\"categorical_crossentropy\", optimizer=optimizer, metrics=[\"accuracy\"])\n",
    "model3.summary()\n",
    "\n",
    "history3=model3.fit(X_train,y_train, batch_size=128, epochs=7, validation_split=0.2, verbose=1)"
   ]
  },
  {
   "cell_type": "markdown",
   "metadata": {},
   "source": [
    "In the model, after the embedding layer, LSTM layer with 100 nodes is used. Recurrent dropout is used to prevent overfitting. In the Dense layer, there are 5 nodes because we have 5 classes to predict. The activation function is softmax. For the loss, categorical cross entropy is used since the task is multiclass classification. Adam optimizer with learning rate 0.001 is preferred. Batch size is 128 and the epoch number is 7. "
   ]
  },
  {
   "cell_type": "code",
   "execution_count": 20,
   "metadata": {},
   "outputs": [
    {
     "name": "stdout",
     "output_type": "stream",
     "text": [
      "Test loss: 0.7934245466423034\n",
      "Test accuracy: 0.68954\n"
     ]
    }
   ],
   "source": [
    "scores={}\n",
    "score_gl = model3.evaluate(X_test, y_test, verbose=0)\n",
    "scores[\"GRU_glove_wikipedia\"] = score_gl\n",
    "print('Test loss:', score_gl[0])\n",
    "print('Test accuracy:', score_gl[1])"
   ]
  },
  {
   "cell_type": "markdown",
   "metadata": {},
   "source": [
    "After fitting and compiling the model, the test loss is 0.79 and the test accuracy is around 0.69."
   ]
  },
  {
   "cell_type": "code",
   "execution_count": 21,
   "metadata": {},
   "outputs": [
    {
     "data": {
      "image/png": "[encoded data removed]",
      "text/plain": [
       "<Figure size 432x288 with 1 Axes>"
      ]
     },
     "metadata": {
      "needs_background": "light"
     },
     "output_type": "display_data"
    }
   ],
   "source": [
    "plt.title('Loss')\n",
    "plt.plot(history3.history['loss'], label='train')\n",
    "plt.plot(history3.history['val_loss'], label='test')\n",
    "plt.legend()\n",
    "plt.show()"
   ]
  },
  {
   "cell_type": "markdown",
   "metadata": {},
   "source": [
    "Here is the graph of train and test losses in every epoch. "
   ]
  },
  {
   "cell_type": "code",
   "execution_count": 22,
   "metadata": {},
   "outputs": [
    {
     "data": {
      "image/png": "[encoded data removed]",
      "text/plain": [
       "<Figure size 432x288 with 1 Axes>"
      ]
     },
     "metadata": {
      "needs_background": "light"
     },
     "output_type": "display_data"
    }
   ],
   "source": [
    "plt.title('Accuracy')\n",
    "plt.plot(history3.history['acc'], label='train')\n",
    "plt.plot(history3.history['val_acc'], label='test')\n",
    "plt.legend()\n",
    "plt.show()"
   ]
  },
  {
   "cell_type": "markdown",
   "metadata": {},
   "source": [
    "Here is the graph of train and test accuracy in every epoch. There is no overfitting. "
   ]
  },
  {
   "cell_type": "markdown",
   "metadata": {},
   "source": [
    "In terms of parameter tuning, we didn't use GridSearch because we don't have that much computational power. Instead, we tried several models by hand and then decided to use the parameters we have in the model. "
   ]
  },
  {
   "cell_type": "code",
   "execution_count": 125,
   "metadata": {},
   "outputs": [
    {
     "name": "stdout",
     "output_type": "stream",
     "text": [
      "\n",
      "Confusion matrix:\n",
      " [[ 1914   353   218   164   548]\n",
      " [  711   462   443   237   500]\n",
      " [  358   443   996  1012  1195]\n",
      " [  218   154   762  2729  5318]\n",
      " [  540   125   560  3433 26607]]\n"
     ]
    }
   ],
   "source": [
    "from sklearn.metrics import confusion_matrix\n",
    "X_test.shape\n",
    "print ('\\nConfusion matrix:\\n', confusion_matrix(np.argmax(y_test,axis=1),model3.predict_classes(X_test)))"
   ]
  },
  {
   "cell_type": "markdown",
   "metadata": {},
   "source": [
    "The confusion matrix is created. The prediction of ratings are distributed unevenly. The model captured and considered the imbalance of the data and predicted accordingly."
   ]
  },
  {
   "cell_type": "markdown",
   "metadata": {},
   "source": [
    "FINAL PREDICTIONS FOR MC2TEST"
   ]
  },
  {
   "cell_type": "markdown",
   "metadata": {},
   "source": [
    "\n",
    "\n",
    "\n",
    "\n",
    "The predictions are created with the model with Glove embedding. The loss for the Glove model is lower than the model with Word2vec and also is lower than our benchmark loss. "
   ]
  },
  {
   "cell_type": "code",
   "execution_count": 137,
   "metadata": {},
   "outputs": [
    {
     "data": {
      "text/html": [
       "<div>\n",
       "<style scoped>\n",
       "    .dataframe tbody tr th:only-of-type {\n",
       "        vertical-align: middle;\n",
       "    }\n",
       "\n",
       "    .dataframe tbody tr th {\n",
       "        vertical-align: top;\n",
       "    }\n",
       "\n",
       "    .dataframe thead th {\n",
       "        text-align: right;\n",
       "    }\n",
       "</style>\n",
       "<table border=\"1\" class=\"dataframe\">\n",
       "  <thead>\n",
       "    <tr style=\"text-align: right;\">\n",
       "      <th></th>\n",
       "      <th>product_id</th>\n",
       "      <th>product_title</th>\n",
       "      <th>helpful_votes</th>\n",
       "      <th>total_votes</th>\n",
       "      <th>verified_purchase</th>\n",
       "      <th>review_headline</th>\n",
       "      <th>review_body</th>\n",
       "    </tr>\n",
       "  </thead>\n",
       "  <tbody>\n",
       "    <tr>\n",
       "      <th>1</th>\n",
       "      <td>1445604752</td>\n",
       "      <td>Spitfire Ace of Aces: The Wartime Story of Joh...</td>\n",
       "      <td>2</td>\n",
       "      <td>2</td>\n",
       "      <td>N</td>\n",
       "      <td>Engaging Account of the Combat Career of an RA...</td>\n",
       "      <td>Back in 1964, I was introduced to 'Johnnie' Jo...</td>\n",
       "    </tr>\n",
       "    <tr>\n",
       "      <th>2</th>\n",
       "      <td>080244864X</td>\n",
       "      <td>Hush: Moving From Silence to Healing After Chi...</td>\n",
       "      <td>1</td>\n",
       "      <td>1</td>\n",
       "      <td>N</td>\n",
       "      <td>Best Book Ever (Next to the Bible</td>\n",
       "      <td>This book has helped me through a lot this pas...</td>\n",
       "    </tr>\n",
       "    <tr>\n",
       "      <th>3</th>\n",
       "      <td>0312536984</td>\n",
       "      <td>Eviction Notice: A Hood Rat Novel (Hood Rat No...</td>\n",
       "      <td>0</td>\n",
       "      <td>0</td>\n",
       "      <td>N</td>\n",
       "      <td>Wild and Crazy</td>\n",
       "      <td>A gripping read!  K'wan is on fire with this n...</td>\n",
       "    </tr>\n",
       "    <tr>\n",
       "      <th>4</th>\n",
       "      <td>1609412427</td>\n",
       "      <td>Vegan Cooking for Carnivores: Over 125 Recipes...</td>\n",
       "      <td>87</td>\n",
       "      <td>90</td>\n",
       "      <td>Y</td>\n",
       "      <td>Cooking up a storm and loving it!</td>\n",
       "      <td>I love this book.  I've had it about four days...</td>\n",
       "    </tr>\n",
       "    <tr>\n",
       "      <th>5</th>\n",
       "      <td>0876059515</td>\n",
       "      <td>The Complete Book of Foaling: An Illustrated G...</td>\n",
       "      <td>1</td>\n",
       "      <td>1</td>\n",
       "      <td>N</td>\n",
       "      <td>The best foaling book on the market</td>\n",
       "      <td>As both a long-time horse owner and fulltime w...</td>\n",
       "    </tr>\n",
       "  </tbody>\n",
       "</table>\n",
       "</div>"
      ],
      "text/plain": [
       "   product_id                                      product_title  \\\n",
       "1  1445604752  Spitfire Ace of Aces: The Wartime Story of Joh...   \n",
       "2  080244864X  Hush: Moving From Silence to Healing After Chi...   \n",
       "3  0312536984  Eviction Notice: A Hood Rat Novel (Hood Rat No...   \n",
       "4  1609412427  Vegan Cooking for Carnivores: Over 125 Recipes...   \n",
       "5  0876059515  The Complete Book of Foaling: An Illustrated G...   \n",
       "\n",
       "   helpful_votes  total_votes verified_purchase  \\\n",
       "1              2            2                 N   \n",
       "2              1            1                 N   \n",
       "3              0            0                 N   \n",
       "4             87           90                 Y   \n",
       "5              1            1                 N   \n",
       "\n",
       "                                     review_headline  \\\n",
       "1  Engaging Account of the Combat Career of an RA...   \n",
       "2                  Best Book Ever (Next to the Bible   \n",
       "3                                     Wild and Crazy   \n",
       "4                  Cooking up a storm and loving it!   \n",
       "5                The best foaling book on the market   \n",
       "\n",
       "                                         review_body  \n",
       "1  Back in 1964, I was introduced to 'Johnnie' Jo...  \n",
       "2  This book has helped me through a lot this pas...  \n",
       "3  A gripping read!  K'wan is on fire with this n...  \n",
       "4  I love this book.  I've had it about four days...  \n",
       "5  As both a long-time horse owner and fulltime w...  "
      ]
     },
     "execution_count": 137,
     "metadata": {},
     "output_type": "execute_result"
    }
   ],
   "source": [
    "test_data=pd.read_csv(\"MC2test.csv\",index_col=0,header=0)\n",
    "test_data.head()"
   ]
  },
  {
   "cell_type": "code",
   "execution_count": 138,
   "metadata": {},
   "outputs": [
    {
     "name": "stdout",
     "output_type": "stream",
     "text": [
      "[3 4 4 ... 4 0 3]\n",
      "[4 5 5 ... 5 1 4]\n"
     ]
    }
   ],
   "source": [
    "X_MC2_test=test_data.review_body.apply(clean_text)\n",
    "test_seq=tokenizer_obj.texts_to_sequences(X_MC2_test)\n",
    "test_padded=pad_sequences(test_seq, 150) \n",
    "predicted_classes=model3.predict_classes(test_padded)\n",
    "print(predicted_classes)\n",
    "predicted_classes=predicted_classes+1\n",
    "print(predicted_classes)"
   ]
  },
  {
   "cell_type": "code",
   "execution_count": 139,
   "metadata": {},
   "outputs": [],
   "source": [
    "test_data['star_rating']= predicted_classes"
   ]
  },
  {
   "cell_type": "code",
   "execution_count": 140,
   "metadata": {},
   "outputs": [
    {
     "data": {
      "text/html": [
       "<div>\n",
       "<style scoped>\n",
       "    .dataframe tbody tr th:only-of-type {\n",
       "        vertical-align: middle;\n",
       "    }\n",
       "\n",
       "    .dataframe tbody tr th {\n",
       "        vertical-align: top;\n",
       "    }\n",
       "\n",
       "    .dataframe thead th {\n",
       "        text-align: right;\n",
       "    }\n",
       "</style>\n",
       "<table border=\"1\" class=\"dataframe\">\n",
       "  <thead>\n",
       "    <tr style=\"text-align: right;\">\n",
       "      <th></th>\n",
       "      <th>product_id</th>\n",
       "      <th>star_rating</th>\n",
       "    </tr>\n",
       "  </thead>\n",
       "  <tbody>\n",
       "    <tr>\n",
       "      <th>1</th>\n",
       "      <td>1445604752</td>\n",
       "      <td>4</td>\n",
       "    </tr>\n",
       "    <tr>\n",
       "      <th>2</th>\n",
       "      <td>080244864X</td>\n",
       "      <td>5</td>\n",
       "    </tr>\n",
       "    <tr>\n",
       "      <th>3</th>\n",
       "      <td>0312536984</td>\n",
       "      <td>5</td>\n",
       "    </tr>\n",
       "    <tr>\n",
       "      <th>4</th>\n",
       "      <td>1609412427</td>\n",
       "      <td>5</td>\n",
       "    </tr>\n",
       "    <tr>\n",
       "      <th>5</th>\n",
       "      <td>0876059515</td>\n",
       "      <td>5</td>\n",
       "    </tr>\n",
       "  </tbody>\n",
       "</table>\n",
       "</div>"
      ],
      "text/plain": [
       "   product_id  star_rating\n",
       "1  1445604752            4\n",
       "2  080244864X            5\n",
       "3  0312536984            5\n",
       "4  1609412427            5\n",
       "5  0876059515            5"
      ]
     },
     "execution_count": 140,
     "metadata": {},
     "output_type": "execute_result"
    }
   ],
   "source": [
    "test_data=test_data[['product_id', 'star_rating']]\n",
    "test_data.head()"
   ]
  },
  {
   "cell_type": "code",
   "execution_count": 143,
   "metadata": {},
   "outputs": [
    {
     "data": {
      "text/html": [
       "<div>\n",
       "<style scoped>\n",
       "    .dataframe tbody tr th:only-of-type {\n",
       "        vertical-align: middle;\n",
       "    }\n",
       "\n",
       "    .dataframe tbody tr th {\n",
       "        vertical-align: top;\n",
       "    }\n",
       "\n",
       "    .dataframe thead th {\n",
       "        text-align: right;\n",
       "    }\n",
       "</style>\n",
       "<table border=\"1\" class=\"dataframe\">\n",
       "  <thead>\n",
       "    <tr style=\"text-align: right;\">\n",
       "      <th></th>\n",
       "      <th>product_id</th>\n",
       "      <th>star_rating</th>\n",
       "    </tr>\n",
       "  </thead>\n",
       "  <tbody>\n",
       "    <tr>\n",
       "      <th>1</th>\n",
       "      <td>1445604752</td>\n",
       "      <td>4</td>\n",
       "    </tr>\n",
       "    <tr>\n",
       "      <th>2</th>\n",
       "      <td>080244864X</td>\n",
       "      <td>5</td>\n",
       "    </tr>\n",
       "    <tr>\n",
       "      <th>3</th>\n",
       "      <td>0312536984</td>\n",
       "      <td>5</td>\n",
       "    </tr>\n",
       "    <tr>\n",
       "      <th>4</th>\n",
       "      <td>1609412427</td>\n",
       "      <td>5</td>\n",
       "    </tr>\n",
       "    <tr>\n",
       "      <th>5</th>\n",
       "      <td>0876059515</td>\n",
       "      <td>5</td>\n",
       "    </tr>\n",
       "  </tbody>\n",
       "</table>\n",
       "</div>"
      ],
      "text/plain": [
       "   product_id  star_rating\n",
       "1  1445604752            4\n",
       "2  080244864X            5\n",
       "3  0312536984            5\n",
       "4  1609412427            5\n",
       "5  0876059515            5"
      ]
     },
     "execution_count": 143,
     "metadata": {},
     "output_type": "execute_result"
    }
   ],
   "source": [
    "test_data['product_id']=test_data['product_id'].astype('str')\n",
    "test_data.head()"
   ]
  },
  {
   "cell_type": "code",
   "execution_count": 155,
   "metadata": {},
   "outputs": [],
   "source": [
    "import csv\n",
    "test_data.to_csv(\"MC2_[VisagesVillages].csv\",index=False,quoting=csv.QUOTE_NONNUMERIC)"
   ]
  },
  {
   "cell_type": "markdown",
   "metadata": {},
   "source": [
    "In conclusion, the predictions of star ratings are created by using Glove model. Then, they are written to the MC2test table. Finally, the predictions are saved to predictions.csv. "
   ]
  }
 ],
 "metadata": {
  "kernelspec": {
   "display_name": "Python 3",
   "language": "python",
   "name": "python3"
  },
  "language_info": {
   "codemirror_mode": {
    "name": "ipython",
    "version": 3
   },
   "file_extension": ".py",
   "mimetype": "text/x-python",
   "name": "python",
   "nbconvert_exporter": "python",
   "pygments_lexer": "ipython3",
   "version": "3.7.1"
  }
 },
 "nbformat": 4,
 "nbformat_minor": 2
}
